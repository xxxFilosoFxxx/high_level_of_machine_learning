{
 "cells": [
  {
   "cell_type": "code",
   "execution_count": 1,
   "metadata": {},
   "outputs": [],
   "source": [
    "import numpy as np\n",
    "import matplotlib.pyplot as plt\n",
    "import gzip\n",
    "import random\n",
    "\n",
    "from keras.models import Sequential\n",
    "from keras.layers import Dense\n",
    "from keras.layers import Dropout\n",
    "from keras.layers import Flatten\n",
    "from keras.layers.convolutional import Conv2D\n",
    "from keras.layers.convolutional import MaxPooling2D\n",
    "from keras.utils import np_utils\n",
    "from keras import backend as K"
   ]
  },
  {
   "cell_type": "code",
   "execution_count": 2,
   "metadata": {},
   "outputs": [],
   "source": [
    "# инициализируем генератор случайных чисел постоянным начальным значением для воспроизводимости результатов\n",
    "seed = 7\n",
    "np.random.seed(seed)"
   ]
  },
  {
   "cell_type": "code",
   "execution_count": 3,
   "metadata": {},
   "outputs": [],
   "source": [
    "def extract_data(filename, num_images, IMAGE_WIDTH):\n",
    "    print('Extracting', filename)\n",
    "    with gzip.open(filename) as bytestream:\n",
    "        bytestream.read(16)\n",
    "        buf = bytestream.read(IMAGE_WIDTH * IMAGE_WIDTH * num_images)\n",
    "        data = np.frombuffer(buf, dtype=np.uint8).astype(np.float32)\n",
    "        data = data.reshape(num_images, IMAGE_WIDTH*IMAGE_WIDTH)\n",
    "        return data\n",
    "    \n",
    "    \n",
    "def extract_labels(filename, num_images):\n",
    "    print('Extracting', filename)\n",
    "    with gzip.open(filename) as bytestream:\n",
    "        bytestream.read(8)\n",
    "        buf = bytestream.read(1 * num_images)\n",
    "        labels = np.frombuffer(buf, dtype=np.uint8).astype(np.int64)\n",
    "    return labels"
   ]
  },
  {
   "cell_type": "code",
   "execution_count": 4,
   "metadata": {},
   "outputs": [
    {
     "name": "stdout",
     "output_type": "stream",
     "text": [
      "Extracting train-images-idx3-ubyte.gz\n",
      "Extracting train-labels-idx1-ubyte.gz\n"
     ]
    }
   ],
   "source": [
    "m = 20000\n",
    "X = extract_data('train-images-idx3-ubyte.gz', m, 28)\n",
    "Y = extract_labels('train-labels-idx1-ubyte.gz', m).reshape(m,1)"
   ]
  },
  {
   "cell_type": "code",
   "execution_count": 5,
   "metadata": {},
   "outputs": [
    {
     "data": {
      "image/png": "[encoded data removed]",
      "text/plain": [
       "<Figure size 432x288 with 1 Axes>"
      ]
     },
     "metadata": {
      "needs_background": "light"
     },
     "output_type": "display_data"
    }
   ],
   "source": [
    "import matplotlib.cm as cm\n",
    "plt.imshow(X[6].reshape((28, 28)), cmap=cm.Greys_r)\n",
    "plt.show()"
   ]
  },
  {
   "cell_type": "code",
   "execution_count": 6,
   "metadata": {},
   "outputs": [],
   "source": [
    "X = X.reshape(len(X), 28, 28)    \n",
    "    \n",
    "X_train = []\n",
    "for i in range(len(X)):\n",
    "    x_even = X[i]\n",
    "    x_rand_1 = random.choice(X)\n",
    "    x_rand_2 = random.choice(X)\n",
    "    x_zeros = np.zeros((28, 28)).reshape((28, 28))\n",
    "    \n",
    "    prom = np.vstack((x_zeros, x_even))\n",
    "    prom = np.vstack((prom, x_zeros))\n",
    "    prom = prom.reshape((84, 28))\n",
    "    \n",
    "    rand_1 = np.vstack((x_zeros, x_rand_1))\n",
    "    rand_1 = np.vstack((rand_1, x_zeros))\n",
    "    rand_1 = rand_1.reshape((84, 28))\n",
    "    \n",
    "    rand_2 = np.vstack((x_zeros, x_rand_2))\n",
    "    rand_2 = np.vstack((rand_2, x_zeros))\n",
    "    rand_2 = rand_2.reshape((84, 28))\n",
    "    \n",
    "    x_train = np.column_stack((rand_1, prom))\n",
    "    x_train = np.column_stack((rand_2, x_train))\n",
    "    X_train.append(x_train)"
   ]
  },
  {
   "cell_type": "code",
   "execution_count": 7,
   "metadata": {},
   "outputs": [
    {
     "data": {
      "image/png": "[encoded data removed]",
      "text/plain": [
       "<Figure size 432x288 with 1 Axes>"
      ]
     },
     "metadata": {
      "needs_background": "light"
     },
     "output_type": "display_data"
    }
   ],
   "source": [
    "plt.imshow(X_train[6], cmap=cm.Greys_r)\n",
    "plt.show()"
   ]
  },
  {
   "cell_type": "code",
   "execution_count": 8,
   "metadata": {},
   "outputs": [],
   "source": [
    "X_train = np.asarray(X_train)\n",
    "X_train = X_train.reshape(X_train.shape[0], X_train.shape[1], X_train.shape[2], 1).astype('float32')\n",
    "# Обратный reshape\n",
    "# X_train = X_train.reshape(X_train.shape[0], 84, 84).astype('float32')\n",
    "X_train = X_train / 255\n",
    "\n",
    "for i in Y:\n",
    "    if i[0] % 2 == [0]:\n",
    "        i[0] = 0  # число четное\n",
    "    else:\n",
    "        i[0] = 1  # число нечетное"
   ]
  },
  {
   "cell_type": "code",
   "execution_count": 9,
   "metadata": {},
   "outputs": [
    {
     "name": "stdout",
     "output_type": "stream",
     "text": [
      "Extracting t10k-images-idx3-ubyte.gz\n",
      "Extracting t10k-labels-idx1-ubyte.gz\n"
     ]
    }
   ],
   "source": [
    "# Тестовая выборка\n",
    "_max = 10000\n",
    "X_t = extract_data('t10k-images-idx3-ubyte.gz', _max, 28)\n",
    "Y_test = extract_labels('t10k-labels-idx1-ubyte.gz', _max).reshape(_max,1)\n",
    "\n",
    "X_t = X_t.reshape(len(X_t), 28, 28)\n",
    "\n",
    "X_test = []\n",
    "for i in range(len(X_t)):\n",
    "    x_even = X_t[i]\n",
    "    x_rand_1 = random.choice(X_t)\n",
    "    x_rand_2 = random.choice(X_t)\n",
    "    x_zeros = np.zeros((28, 28)).reshape((28, 28))\n",
    "    \n",
    "    prom = np.vstack((x_zeros, x_even))\n",
    "    prom = np.vstack((prom, x_zeros))\n",
    "    prom = prom.reshape((84, 28))\n",
    "    \n",
    "    rand_1 = np.vstack((x_zeros, x_rand_1))\n",
    "    rand_1 = np.vstack((rand_1, x_zeros))\n",
    "    rand_1 = rand_1.reshape((84, 28))\n",
    "    \n",
    "    rand_2 = np.vstack((x_zeros, x_rand_2))\n",
    "    rand_2 = np.vstack((rand_2, x_zeros))\n",
    "    rand_2 = rand_2.reshape((84, 28))\n",
    "    \n",
    "    x_test = np.column_stack((rand_1, prom))\n",
    "    x_test = np.column_stack((rand_2, x_test))\n",
    "    X_test.append(x_test)\n",
    "    \n",
    "X_test = np.asarray(X_test)\n",
    "X_test = X_test.reshape(X_test.shape[0], X_test.shape[1], X_test.shape[2], 1).astype('float32')\n",
    "X_test = X_test / 255\n",
    "\n",
    "for i in Y_test:\n",
    "    if i[0] % 2 == [0]:\n",
    "        i[0] = 0  # число четное\n",
    "    else:\n",
    "        i[0] = 1  # число нечетное\n",
    "\n",
    "Y = np_utils.to_categorical(Y)\n",
    "Y_test = np_utils.to_categorical(Y_test)\n",
    "num_classes = Y_test.shape[1]"
   ]
  },
  {
   "cell_type": "code",
   "execution_count": 10,
   "metadata": {},
   "outputs": [],
   "source": [
    "def cnn_model():\n",
    "    # Модель\n",
    "    model = Sequential()\n",
    "    model.add(Conv2D(32, (5, 5), input_shape=(84, 84, 1), activation='relu'))\n",
    "    model.add(MaxPooling2D(pool_size=(2, 2)))\n",
    "    model.add(Conv2D(16, (3, 3), activation='relu'))\n",
    "    model.add(MaxPooling2D(pool_size=(2, 2)))\n",
    "    model.add(Dropout(0.2))\n",
    "    model.add(Flatten())\n",
    "    model.add(Dense(128, activation='relu'))\n",
    "    model.add(Dense(50, activation='relu'))\n",
    "    model.add(Dense(num_classes, activation='softmax'))\n",
    "    \n",
    "    model.compile(loss='categorical_crossentropy', optimizer='adam', metrics=['accuracy'])\n",
    "    return model"
   ]
  },
  {
   "cell_type": "code",
   "execution_count": 11,
   "metadata": {},
   "outputs": [
    {
     "name": "stdout",
     "output_type": "stream",
     "text": [
      "Epoch 1/10\n",
      "10/10 - 52s - loss: 0.6031 - accuracy: 0.6866 - val_loss: 0.4663 - val_accuracy: 0.7816\n",
      "Epoch 2/10\n",
      "10/10 - 51s - loss: 0.4235 - accuracy: 0.8033 - val_loss: 0.3592 - val_accuracy: 0.8374\n",
      "Epoch 3/10\n",
      "10/10 - 52s - loss: 0.3729 - accuracy: 0.8316 - val_loss: 0.3262 - val_accuracy: 0.8659\n",
      "Epoch 4/10\n",
      "10/10 - 52s - loss: 0.3165 - accuracy: 0.8634 - val_loss: 0.2813 - val_accuracy: 0.8880\n",
      "Epoch 5/10\n",
      "10/10 - 51s - loss: 0.2786 - accuracy: 0.8817 - val_loss: 0.2287 - val_accuracy: 0.9069\n",
      "Epoch 6/10\n",
      "10/10 - 51s - loss: 0.2388 - accuracy: 0.9013 - val_loss: 0.1941 - val_accuracy: 0.9232\n",
      "Epoch 7/10\n",
      "10/10 - 51s - loss: 0.2034 - accuracy: 0.9204 - val_loss: 0.1648 - val_accuracy: 0.9366\n",
      "Epoch 8/10\n",
      "10/10 - 52s - loss: 0.1808 - accuracy: 0.9283 - val_loss: 0.1401 - val_accuracy: 0.9486\n",
      "Epoch 9/10\n",
      "10/10 - 53s - loss: 0.1620 - accuracy: 0.9383 - val_loss: 0.1235 - val_accuracy: 0.9557\n",
      "Epoch 10/10\n",
      "10/10 - 52s - loss: 0.1488 - accuracy: 0.9435 - val_loss: 0.1123 - val_accuracy: 0.9605\n",
      "CNN Error: 3.95%\n"
     ]
    }
   ],
   "source": [
    "model = cnn_model()\n",
    "# Fit the model\n",
    "model.fit(X_train, Y, validation_data=(X_test, Y_test), epochs=10, batch_size=2000, verbose=2)\n",
    "# Final evaluation of the model\n",
    "scores = model.evaluate(X_test, Y_test, verbose=0)\n",
    "print(\"CNN Error: %.2f%%\" % (100-scores[1]*100))"
   ]
  },
  {
   "cell_type": "code",
   "execution_count": null,
   "metadata": {},
   "outputs": [],
   "source": []
  }
 ],
 "metadata": {
  "kernelspec": {
   "display_name": "Python 3",
   "language": "python",
   "name": "python3"
  },
  "language_info": {
   "codemirror_mode": {
    "name": "ipython",
    "version": 3
   },
   "file_extension": ".py",
   "mimetype": "text/x-python",
   "name": "python",
   "nbconvert_exporter": "python",
   "pygments_lexer": "ipython3",
   "version": "3.7.7"
  }
 },
 "nbformat": 4,
 "nbformat_minor": 4
}
